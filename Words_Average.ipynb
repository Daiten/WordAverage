{
  "cells": [
    {
      "cell_type": "markdown",
      "metadata": {
        "id": "view-in-github",
        "colab_type": "text"
      },
      "source": [
        "<a href=\"https://colab.research.google.com/github/Daiten/WordAverage/blob/main/Words_Average.ipynb\" target=\"_parent\"><img src=\"https://colab.research.google.com/assets/colab-badge.svg\" alt=\"Open In Colab\"/></a>"
      ]
    },
    {
      "cell_type": "markdown",
      "metadata": {
        "id": "afzj6b3ZeDXE"
      },
      "source": [
        "# Linguistic projects in python by Daiten\n",
        "## 1. Imports"
      ]
    },
    {
      "cell_type": "code",
      "execution_count": null,
      "metadata": {
        "id": "SRMpyiPgeDXH"
      },
      "outputs": [],
      "source": [
        "import random"
      ]
    },
    {
      "cell_type": "markdown",
      "metadata": {
        "id": "_ny8hxBheDXI"
      },
      "source": [
        "## 2.1 Average Word\n",
        "### This function takes two word and uses average length of both words to determine first and last letters."
      ]
    },
    {
      "cell_type": "code",
      "execution_count": null,
      "metadata": {
        "id": "9qVy8J-NeDXI"
      },
      "outputs": [],
      "source": [
        "def average_word(word1, word2):\n",
        "    word1_length = len(word1)\n",
        "    word2_length = len(word2)\n",
        "\n",
        "    words_length_average = (word1_length + word2_length)//2\n",
        "    half_of_average = words_length_average//2\n",
        "    first_letters = word1[0:half_of_average]\n",
        "    last_letters = word2[-half_of_average:]\n",
        "    \n",
        "    new_word = first_letters + last_letters\n",
        "    return new_word"
      ]
    },
    {
      "cell_type": "markdown",
      "metadata": {
        "id": "mTGvntLEeDXJ"
      },
      "source": [
        "## 2.2 Average Word Inverse\n",
        "### Same as average word, but reverses which word will use first and which last letters."
      ]
    },
    {
      "cell_type": "code",
      "execution_count": null,
      "metadata": {
        "id": "EX7JkRDOeDXJ"
      },
      "outputs": [],
      "source": [
        "def average_word_inverse(word1, word2):\n",
        "    word1_length = len(word1)\n",
        "    word2_length = len(word2)\n",
        "\n",
        "    words_length_average = (word1_length + word2_length)//2\n",
        "    half_of_average = words_length_average//2\n",
        "    first_letters = word2[0:half_of_average]\n",
        "    last_letters = word1[-half_of_average:]\n",
        "    \n",
        "    new_word = first_letters + last_letters\n",
        "    return new_word"
      ]
    },
    {
      "cell_type": "markdown",
      "metadata": {
        "id": "pV1V5EFLeDXJ"
      },
      "source": [
        "## 2.3 Progeny Namer\n",
        "### After running this cell, you can add names of both parrents and you will get names for boy and girl. This is just a fun tool to mashup both parrents names."
      ]
    },
    {
      "cell_type": "code",
      "execution_count": null,
      "metadata": {
        "colab": {
          "base_uri": "https://localhost:8080/"
        },
        "id": "LEj4VQjqeDXK",
        "outputId": "a42140e4-0658-4ebe-c348-1e072abf5109"
      },
      "outputs": [
        {
          "output_type": "stream",
          "name": "stdout",
          "text": [
            "Name of the father? John\n",
            "Name of the mother? Mary\n",
            "for a girl Jory\n",
            "for a boy Mahn\n"
          ]
        }
      ],
      "source": [
        "father = input(\"Name of the father? \")\n",
        "mother = input(\"Name of the mother? \")\n",
        "\n",
        "print(\"for a girl\", average_word(father,mother))\n",
        "print(\"for a boy\",average_word_inverse(father,mother))"
      ]
    },
    {
      "cell_type": "markdown",
      "metadata": {
        "id": "TXUzsPzfeDXK"
      },
      "source": [
        "## 3. Scramble\n",
        "### This takes all possible letters from both words and uses them completely randombly."
      ]
    },
    {
      "cell_type": "code",
      "execution_count": null,
      "metadata": {
        "id": "2QCi-Z39eDXK"
      },
      "outputs": [],
      "source": [
        "def scramble(word1, word2):\n",
        "    word1_length = len(word1)\n",
        "    word2_length = len(word2)\n",
        "    letters = (word1 + word2).lower()\n",
        "    lengths = [word1_length, word2_length]\n",
        "    \n",
        "    length_of_new_word = random.randint(min(lengths),max(lengths))\n",
        "    \n",
        "    final_word = []\n",
        "    \n",
        "    while length_of_new_word > 0:\n",
        "        final_word.append(letters[random.randint(0,len(letters)-1)])\n",
        "        length_of_new_word = length_of_new_word - 1\n",
        "\n",
        "    \n",
        "\n",
        "    return (\"\".join(final_word)).capitalize()\n"
      ]
    },
    {
      "cell_type": "markdown",
      "metadata": {
        "id": "aD-7i13seDXL"
      },
      "source": [
        "## 4. Average Letters\n",
        "### This tries to determine unicode letter average between two words. At this moment will most likely result in nonsense words."
      ]
    },
    {
      "cell_type": "code",
      "execution_count": null,
      "metadata": {
        "id": "vTrGdwJjeDXL"
      },
      "outputs": [],
      "source": [
        "def average_letters(word1, word2):\n",
        "    word1_length = len(word1)\n",
        "    word2_length = len(word2)\n",
        "\n",
        "    words_length_average = (word1_length + word2_length)//2\n",
        "    half_of_average = words_length_average//2\n",
        "    first_letters = word1[0:half_of_average]\n",
        "    last_letters = word2[-half_of_average:]\n",
        "    \n",
        "    first_letters_list = []\n",
        "    last_letters_list = []\n",
        "    averaged_letters_list = []\n",
        "    new_word = []\n",
        "    \n",
        "    for letter in first_letters:\n",
        "        first_letters_list.append(ord(letter.lower()))\n",
        "    for letter in last_letters:\n",
        "        last_letters_list.append(ord(letter.lower()))\n",
        "        \n",
        "    for first_letter in first_letters_list:\n",
        "        for last_letter in last_letters_list:\n",
        "            averaged_letters_list.append((first_letter + last_letter)//2)\n",
        "            \n",
        "    for number in averaged_letters_list:\n",
        "        new_word.append(chr(number))\n",
        "        \n",
        "    readable_new_word = \"\".join(new_word)\n",
        "    \n",
        "    return readable_new_word.capitalize()\n",
        "    "
      ]
    },
    {
      "cell_type": "markdown",
      "metadata": {
        "id": "Dzdmn9-neDXM"
      },
      "source": [
        "## 5. Phonetic Averager (WIP)\n",
        "### My plan is to make a utility that will be able to average phonemes from IPA and then give you average phoneme. So far it works like this, finds two words, finds minimum overall length and then averages phonemes by converting them to numbers."
      ]
    },
    {
      "cell_type": "code",
      "execution_count": null,
      "metadata": {
        "id": "1Pemyf_teDXM"
      },
      "outputs": [],
      "source": [
        "def phonetic_to_number(word):\n",
        "    phonetic_dictionary = {\"æ\": 7, \"ə\": 16, \"ø\" : 23, \"ɪ\" : 27,\n",
        "                           \"n\": 39, \"ɴ\": 46,\n",
        "                           \"k\": 59, \"ʃ\" : 66, \"θ\": 76, \"ɹ\": 92}\n",
        "    \n",
        "    phonetic_number = []\n",
        "    \n",
        "    for letter in word:\n",
        "        phonetic_number.append(phonetic_dictionary[letter])\n",
        " \n",
        "            \n",
        "    return phonetic_number"
      ]
    },
    {
      "cell_type": "code",
      "execution_count": null,
      "metadata": {
        "id": "fWRi-WLDeDXN"
      },
      "outputs": [],
      "source": [
        "def common_letter_length(word1, word2):\n",
        "    word1_length = len(word1)\n",
        "    word2_length = len(word2)\n",
        "    comparison = []\n",
        "    comparison.append(word1_length)\n",
        "    comparison.append(word2_length)\n",
        "    return min(comparison)\n",
        "    "
      ]
    },
    {
      "cell_type": "code",
      "execution_count": null,
      "metadata": {
        "id": "uC1e6LHTeDXN"
      },
      "outputs": [],
      "source": [
        "def phonetic_average(word1, word2):\n",
        "    phonetic_dictionary = {\"æ\": 7, \"ə\": 16, \"ø\" : 23, \"ɪ\" : 27,\n",
        "                           \"n\": 39, \"ɴ\": 46,\n",
        "                           \"k\": 59, \"ʃ\" : 66, \"θ\": 76, \"ɹ\": 92}\n",
        "    \n",
        "    phonetic_length = common_letter_length(word1, word2)\n",
        "    \n",
        "    word1 = word1[0:phonetic_length]\n",
        "    word2 = word2[0:phonetic_length]\n",
        "    \n",
        "    phonetic_number_1 = phonetic_to_number(word1)\n",
        "    phonetic_number_2 = phonetic_to_number(word2)\n",
        "    \n",
        "    \n",
        "    finished_string = []\n",
        "    summary = [x + y for x, y in zip(phonetic_number_1, phonetic_number_2)]\n",
        "    divider = 2\n",
        "    average_summary = [x // divider for x in summary]\n",
        "\n",
        "    \n",
        "    \n",
        "    phonetic_keys_list = list(phonetic_dictionary.keys())\n",
        "    phonetic_values_list = list(phonetic_dictionary.values())\n",
        "    \n",
        "    for number in average_summary:\n",
        "       finished_string.append(phonetic_keys_list[number])\n",
        "\n",
        "    \n",
        "    \n",
        "    \n",
        "    return finished_string\n",
        "        \n",
        "    \n",
        "    \n",
        "    "
      ]
    },
    {
      "cell_type": "code",
      "execution_count": null,
      "metadata": {
        "id": "675xHJ5CeDXO",
        "outputId": "6a9c0e1f-1761-493b-f9de-0f8c34412ca5"
      },
      "outputs": [
        {
          "ename": "IndexError",
          "evalue": "list index out of range",
          "output_type": "error",
          "traceback": [
            "\u001b[1;31m---------------------------------------------------------------------------\u001b[0m",
            "\u001b[1;31mIndexError\u001b[0m                                Traceback (most recent call last)",
            "\u001b[1;32m<ipython-input-410-7d1b1be0765e>\u001b[0m in \u001b[0;36m<module>\u001b[1;34m()\u001b[0m\n\u001b[1;32m----> 1\u001b[1;33m \u001b[0mphonetic_average\u001b[0m\u001b[1;33m(\u001b[0m\u001b[1;34m\"ænə\"\u001b[0m\u001b[1;33m,\u001b[0m \u001b[1;34m\"kæθɹɪn\"\u001b[0m\u001b[1;33m)\u001b[0m\u001b[1;33m\u001b[0m\u001b[0m\n\u001b[0m",
            "\u001b[1;32m<ipython-input-409-7b9a7597ba1f>\u001b[0m in \u001b[0;36mphonetic_average\u001b[1;34m(word1, word2)\u001b[0m\n\u001b[0;32m     24\u001b[0m \u001b[1;33m\u001b[0m\u001b[0m\n\u001b[0;32m     25\u001b[0m     \u001b[1;32mfor\u001b[0m \u001b[0mnumber\u001b[0m \u001b[1;32min\u001b[0m \u001b[0maverage_summary\u001b[0m\u001b[1;33m:\u001b[0m\u001b[1;33m\u001b[0m\u001b[0m\n\u001b[1;32m---> 26\u001b[1;33m        \u001b[0mfinished_string\u001b[0m\u001b[1;33m.\u001b[0m\u001b[0mappend\u001b[0m\u001b[1;33m(\u001b[0m\u001b[0mphonetic_values_list\u001b[0m\u001b[1;33m[\u001b[0m\u001b[0mnumber\u001b[0m\u001b[1;33m]\u001b[0m\u001b[1;33m)\u001b[0m\u001b[1;33m\u001b[0m\u001b[0m\n\u001b[0m\u001b[0;32m     27\u001b[0m \u001b[1;33m\u001b[0m\u001b[0m\n\u001b[0;32m     28\u001b[0m \u001b[1;33m\u001b[0m\u001b[0m\n",
            "\u001b[1;31mIndexError\u001b[0m: list index out of range"
          ]
        }
      ],
      "source": [
        "phonetic_average(\"ænə\", \"kæθɹɪn\")"
      ]
    },
    {
      "cell_type": "code",
      "execution_count": null,
      "metadata": {
        "id": "W0XtqHEQeDXP"
      },
      "outputs": [],
      "source": [
        ""
      ]
    }
  ],
  "metadata": {
    "kernelspec": {
      "display_name": "Python 3",
      "language": "python",
      "name": "python3"
    },
    "language_info": {
      "codemirror_mode": {
        "name": "ipython",
        "version": 3
      },
      "file_extension": ".py",
      "mimetype": "text/x-python",
      "name": "python",
      "nbconvert_exporter": "python",
      "pygments_lexer": "ipython3",
      "version": "3.6.4"
    },
    "colab": {
      "name": "Words Average.ipynb",
      "provenance": [],
      "collapsed_sections": [],
      "include_colab_link": true
    }
  },
  "nbformat": 4,
  "nbformat_minor": 0
}